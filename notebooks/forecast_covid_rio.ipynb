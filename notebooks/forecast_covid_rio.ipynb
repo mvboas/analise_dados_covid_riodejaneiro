{
  "nbformat": 4,
  "nbformat_minor": 0,
  "metadata": {
    "colab": {
      "name": "forecast_covid_rio.ipynb",
      "provenance": [],
      "authorship_tag": "ABX9TyPVgTdsiKkPn6KQp55pzUKq",
      "include_colab_link": true
    },
    "kernelspec": {
      "name": "python3",
      "display_name": "Python 3"
    },
    "language_info": {
      "name": "python"
    }
  },
  "cells": [
    {
      "cell_type": "markdown",
      "metadata": {
        "id": "view-in-github",
        "colab_type": "text"
      },
      "source": [
        "<a href=\"https://colab.research.google.com/github/mvboas/analise_dados_covid_riodejaneiro/blob/main/notebooks/forecast_covid_rio.ipynb\" target=\"_parent\"><img src=\"https://colab.research.google.com/assets/colab-badge.svg\" alt=\"Open In Colab\"/></a>"
      ]
    },
    {
      "cell_type": "markdown",
      "source": [
        "> # Análise dos Dados de Covid-19 - Rio de Janeiro\n",
        "\n",
        "**Projeto do Módulo 3 do Bootcamp de Data Science 3 da Alura**\n",
        "\n",
        "Autor: Marcelo Vilas Boas de Castro\n",
        "\n",
        "e-mail: mvboas.castro@gmail.com"
      ],
      "metadata": {
        "id": "exb80w6__ohw"
      }
    },
    {
      "cell_type": "markdown",
      "source": [
        "> ## Dados"
      ],
      "metadata": {
        "id": "Xkf6BAqHBY3k"
      }
    },
    {
      "cell_type": "markdown",
      "source": [
        "> ## Objetivo\n",
        "\n",
        "Essa análise busca fazer uma previsão para os dados de COVID-19 do município do Rio de Janeiro. Para isso, utilizaremos a biblioteca Prophet do Facebook\n",
        "\n",
        "Documentação do Prophet: https://facebook.github.io/prophet/docs/quick_start.html"
      ],
      "metadata": {
        "id": "4h2Waz_XAaxy"
      }
    },
    {
      "cell_type": "code",
      "execution_count": 1,
      "metadata": {
        "id": "0YSk9chT_ltL"
      },
      "outputs": [],
      "source": [
        "import pandas as pd\n",
        "import seaborn as sns\n",
        "import matplotlib.pyplot as plt\n",
        "import matplotlib as mpl\n",
        "import matplotlib.ticker as ticker"
      ]
    },
    {
      "cell_type": "code",
      "source": [
        ""
      ],
      "metadata": {
        "id": "CNCd6pxCCkGK"
      },
      "execution_count": null,
      "outputs": []
    }
  ]
}